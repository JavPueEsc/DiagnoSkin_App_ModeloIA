{
 "cells": [
  {
   "cell_type": "markdown",
   "metadata": {},
   "source": [
    "# Entrenar una ia para calcular celsius --> Fahrenheit. Red Compleja"
   ]
  },
  {
   "cell_type": "code",
   "execution_count": 11,
   "metadata": {},
   "outputs": [],
   "source": [
    "import tensorflow as tf\n",
    "import numpy as np"
   ]
  },
  {
   "cell_type": "code",
   "execution_count": 12,
   "metadata": {},
   "outputs": [],
   "source": [
    "celsius = np.array([-40, -10, 0, 8, 15, 22, 38], dtype=float)\n",
    "fahrenheit = np.array([-40, 14, 32, 46, 59, 72, 100], dtype=float)"
   ]
  },
  {
   "cell_type": "code",
   "execution_count": null,
   "metadata": {},
   "outputs": [
    {
     "name": "stderr",
     "output_type": "stream",
     "text": [
      "c:\\Users\\dekad\\Desktop\\GrupoStudium\\3. Segundo DAM\\7. Proyecto integrado\\Espacio de trabajo\\venv\\lib\\site-packages\\keras\\src\\layers\\core\\dense.py:87: UserWarning: Do not pass an `input_shape`/`input_dim` argument to a layer. When using Sequential models, prefer using an `Input(shape)` object as the first layer in the model instead.\n",
      "  super().__init__(activity_regularizer=activity_regularizer, **kwargs)\n"
     ]
    }
   ],
   "source": [
    "# capa = tf.keras.layers.Dense(units =1, input_shape=[1])\n",
    "# modelo = tf.keras.Sequential([capa])\n",
    "''' \n",
    "Ahora nuestra red tendrá 4 capas; una de entrada, dos intermedias (ocultas) y una de salida.\n",
    "Las intermedias tendrán 3 neuronas cada una y la capa de entrada vendrá definida con la primera\n",
    " capa oculta.\n",
    "'''\n",
    "oculta1 = tf.keras.layers.Dense(units=3, input_shape=[1])\n",
    "oculta2 = tf.keras.layers.Dense(units=3)\n",
    "salida = tf.keras.layers.Dense(units=1)\n",
    "modelo = tf.keras.Sequential([oculta1, oculta2, salida])"
   ]
  },
  {
   "cell_type": "code",
   "execution_count": 14,
   "metadata": {},
   "outputs": [],
   "source": [
    "modelo.compile(\n",
    "   optimizer = tf.keras.optimizers.Adam(0.1),\n",
    "   loss='mean_squared_error'\n",
    ")   "
   ]
  },
  {
   "cell_type": "code",
   "execution_count": 15,
   "metadata": {},
   "outputs": [
    {
     "name": "stdout",
     "output_type": "stream",
     "text": [
      "Comenzando el entrenamiento...\n",
      "¡Modelo entrenado!\n"
     ]
    }
   ],
   "source": [
    "print(\"Comenzando el entrenamiento...\")\n",
    "historial = modelo.fit(celsius, fahrenheit, epochs=1000, verbose= False)\n",
    "print(\"¡Modelo entrenado!\")"
   ]
  },
  {
   "cell_type": "code",
   "execution_count": null,
   "metadata": {},
   "outputs": [
    {
     "data": {
      "text/plain": [
       "[<matplotlib.lines.Line2D at 0x1d0e01af370>]"
      ]
     },
     "execution_count": 16,
     "metadata": {},
     "output_type": "execute_result"
    },
    {
     "data": {
      "image/png": "[encoded data removed]",
      "text/plain": [
       "<Figure size 640x480 with 1 Axes>"
      ]
     },
     "metadata": {},
     "output_type": "display_data"
    }
   ],
   "source": [
    "''' \n",
    "Ahora vemos que al ser la red más compleja, el aprendizaje fué mucho más rápido. \n",
    "A partir de la vuelta 50-60 ya no aprendió más.\n",
    "'''\n",
    "import matplotlib.pyplot as plt\n",
    "plt.xlabel(\"# Epoca\")\n",
    "plt.ylabel(\"Magnitud de pérdida\")\n",
    "plt.plot(historial.history[\"loss\"])"
   ]
  },
  {
   "cell_type": "code",
   "execution_count": 17,
   "metadata": {},
   "outputs": [
    {
     "name": "stdout",
     "output_type": "stream",
     "text": [
      "Hagamos una predicción!\n",
      "\u001b[1m1/1\u001b[0m \u001b[32m━━━━━━━━━━━━━━━━━━━━\u001b[0m\u001b[37m\u001b[0m \u001b[1m0s\u001b[0m 94ms/step\n",
      "El resultado es [[211.74748]] fahrenheit!\n"
     ]
    }
   ],
   "source": [
    "print(\"Hagamos una predicción!\")\n",
    "entrada = np.array([100.0], dtype=float)\n",
    "resultado = modelo.predict(entrada)\n",
    "print(\"El resultado es \"+str(resultado)+\" fahrenheit!\")"
   ]
  },
  {
   "cell_type": "code",
   "execution_count": null,
   "metadata": {},
   "outputs": [
    {
     "name": "stdout",
     "output_type": "stream",
     "text": [
      "Variables internas del modelo\n",
      "[array([[ 0.22170998, -0.3233053 ,  0.31591764]], dtype=float32), array([ 3.1145616, -3.131552 ,  3.310445 ], dtype=float32)]\n",
      "[array([[-0.59968543,  0.17784119,  0.1937858 ],\n",
      "       [-0.8191957 , -0.5661087 , -1.0014576 ],\n",
      "       [-0.513047  ,  1.1912656 ,  0.93270046]], dtype=float32), array([-1.7009096,  3.2951488,  3.3003907], dtype=float32)]\n",
      "[array([[-0.25994736],\n",
      "       [ 1.4269321 ],\n",
      "       [ 1.4146714 ]], dtype=float32), array([3.273556], dtype=float32)]\n"
     ]
    }
   ],
   "source": [
    "''' \n",
    "Al ser una red más compleja, los resultados obtenidos con estas funciones son\n",
    "complejos y no nos aportan información relevante para nuestro propósito.\n",
    "'''\n",
    "print(\"Variables internas del modelo\")\n",
    "# print(capa.get_weights())\n",
    "print(oculta1.get_weights())\n",
    "print(oculta2.get_weights())\n",
    "print(salida.get_weights())"
   ]
  }
 ],
 "metadata": {
  "kernelspec": {
   "display_name": "venv",
   "language": "python",
   "name": "python3"
  },
  "language_info": {
   "codemirror_mode": {
    "name": "ipython",
    "version": 3
   },
   "file_extension": ".py",
   "mimetype": "text/x-python",
   "name": "python",
   "nbconvert_exporter": "python",
   "pygments_lexer": "ipython3",
   "version": "3.9.13"
  }
 },
 "nbformat": 4,
 "nbformat_minor": 2
}
