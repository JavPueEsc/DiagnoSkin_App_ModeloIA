{
 "cells": [
  {
   "cell_type": "markdown",
   "id": "90983628",
   "metadata": {},
   "source": [
    "# 1. Gestión del dataset - Estratificación automática"
   ]
  },
  {
   "cell_type": "markdown",
   "id": "0e731986",
   "metadata": {},
   "source": [
    "Cargar CSV original y visualizar los datos. Verificamos que las columnas clave como bcn_filename, diagnosis y lesion_id están presentes en el archivo CSV"
   ]
  },
  {
   "cell_type": "code",
   "execution_count": 31,
   "id": "e3c9ad10",
   "metadata": {},
   "outputs": [
    {
     "data": {
      "text/html": [
       "<div>\n",
       "<style scoped>\n",
       "    .dataframe tbody tr th:only-of-type {\n",
       "        vertical-align: middle;\n",
       "    }\n",
       "\n",
       "    .dataframe tbody tr th {\n",
       "        vertical-align: top;\n",
       "    }\n",
       "\n",
       "    .dataframe thead th {\n",
       "        text-align: right;\n",
       "    }\n",
       "</style>\n",
       "<table border=\"1\" class=\"dataframe\">\n",
       "  <thead>\n",
       "    <tr style=\"text-align: right;\">\n",
       "      <th></th>\n",
       "      <th>bcn_filename</th>\n",
       "      <th>age_approx</th>\n",
       "      <th>anatom_site_general</th>\n",
       "      <th>diagnosis</th>\n",
       "      <th>lesion_id</th>\n",
       "      <th>capture_date</th>\n",
       "      <th>sex</th>\n",
       "      <th>split</th>\n",
       "    </tr>\n",
       "  </thead>\n",
       "  <tbody>\n",
       "    <tr>\n",
       "      <th>0</th>\n",
       "      <td>BCN_0000000001.jpg</td>\n",
       "      <td>55.0</td>\n",
       "      <td>anterior torso</td>\n",
       "      <td>MEL</td>\n",
       "      <td>BCN_0003884</td>\n",
       "      <td>2012-05-16</td>\n",
       "      <td>male</td>\n",
       "      <td>train</td>\n",
       "    </tr>\n",
       "    <tr>\n",
       "      <th>1</th>\n",
       "      <td>BCN_0000000003.jpg</td>\n",
       "      <td>50.0</td>\n",
       "      <td>anterior torso</td>\n",
       "      <td>MEL</td>\n",
       "      <td>BCN_0000019</td>\n",
       "      <td>2015-07-09</td>\n",
       "      <td>female</td>\n",
       "      <td>train</td>\n",
       "    </tr>\n",
       "    <tr>\n",
       "      <th>2</th>\n",
       "      <td>BCN_0000000004.jpg</td>\n",
       "      <td>85.0</td>\n",
       "      <td>head/neck</td>\n",
       "      <td>SCC</td>\n",
       "      <td>BCN_0003499</td>\n",
       "      <td>2015-11-23</td>\n",
       "      <td>male</td>\n",
       "      <td>train</td>\n",
       "    </tr>\n",
       "    <tr>\n",
       "      <th>3</th>\n",
       "      <td>BCN_0000000006.jpg</td>\n",
       "      <td>60.0</td>\n",
       "      <td>anterior torso</td>\n",
       "      <td>NV</td>\n",
       "      <td>BCN_0003316</td>\n",
       "      <td>2015-06-16</td>\n",
       "      <td>male</td>\n",
       "      <td>train</td>\n",
       "    </tr>\n",
       "    <tr>\n",
       "      <th>4</th>\n",
       "      <td>BCN_0000000010.jpg</td>\n",
       "      <td>30.0</td>\n",
       "      <td>anterior torso</td>\n",
       "      <td>BCC</td>\n",
       "      <td>BCN_0004874</td>\n",
       "      <td>2014-02-18</td>\n",
       "      <td>female</td>\n",
       "      <td>train</td>\n",
       "    </tr>\n",
       "  </tbody>\n",
       "</table>\n",
       "</div>"
      ],
      "text/plain": [
       "         bcn_filename  age_approx anatom_site_general diagnosis    lesion_id  \\\n",
       "0  BCN_0000000001.jpg        55.0      anterior torso       MEL  BCN_0003884   \n",
       "1  BCN_0000000003.jpg        50.0      anterior torso       MEL  BCN_0000019   \n",
       "2  BCN_0000000004.jpg        85.0           head/neck       SCC  BCN_0003499   \n",
       "3  BCN_0000000006.jpg        60.0      anterior torso        NV  BCN_0003316   \n",
       "4  BCN_0000000010.jpg        30.0      anterior torso       BCC  BCN_0004874   \n",
       "\n",
       "  capture_date     sex  split  \n",
       "0   2012-05-16    male  train  \n",
       "1   2015-07-09  female  train  \n",
       "2   2015-11-23    male  train  \n",
       "3   2015-06-16    male  train  \n",
       "4   2014-02-18  female  train  "
      ]
     },
     "execution_count": 31,
     "metadata": {},
     "output_type": "execute_result"
    }
   ],
   "source": [
    "import pandas as pd\n",
    "\n",
    "# Ruta a tu CSV\n",
    "csv_path = r\"C:\\BCN20000\\bcn_20k_train.csv\"\n",
    "\n",
    "# Cargamos el CSV\n",
    "df = pd.read_csv(csv_path)\n",
    "\n",
    "# Mostramos las primeras filas para revisar la estructura\n",
    "df.head()"
   ]
  },
  {
   "cell_type": "markdown",
   "id": "aee23c07",
   "metadata": {},
   "source": [
    "Añadir la ruta completa a cada imagen"
   ]
  },
  {
   "cell_type": "code",
   "execution_count": 32,
   "id": "0c6981dc",
   "metadata": {},
   "outputs": [
    {
     "data": {
      "text/html": [
       "<div>\n",
       "<style scoped>\n",
       "    .dataframe tbody tr th:only-of-type {\n",
       "        vertical-align: middle;\n",
       "    }\n",
       "\n",
       "    .dataframe tbody tr th {\n",
       "        vertical-align: top;\n",
       "    }\n",
       "\n",
       "    .dataframe thead th {\n",
       "        text-align: right;\n",
       "    }\n",
       "</style>\n",
       "<table border=\"1\" class=\"dataframe\">\n",
       "  <thead>\n",
       "    <tr style=\"text-align: right;\">\n",
       "      <th></th>\n",
       "      <th>filepath</th>\n",
       "      <th>diagnosis</th>\n",
       "      <th>lesion_id</th>\n",
       "    </tr>\n",
       "  </thead>\n",
       "  <tbody>\n",
       "    <tr>\n",
       "      <th>0</th>\n",
       "      <td>C:\\BCN20000\\BCN_20k_train\\bcn_20k_train\\BCN_00...</td>\n",
       "      <td>MEL</td>\n",
       "      <td>BCN_0003884</td>\n",
       "    </tr>\n",
       "    <tr>\n",
       "      <th>1</th>\n",
       "      <td>C:\\BCN20000\\BCN_20k_train\\bcn_20k_train\\BCN_00...</td>\n",
       "      <td>MEL</td>\n",
       "      <td>BCN_0000019</td>\n",
       "    </tr>\n",
       "    <tr>\n",
       "      <th>2</th>\n",
       "      <td>C:\\BCN20000\\BCN_20k_train\\bcn_20k_train\\BCN_00...</td>\n",
       "      <td>SCC</td>\n",
       "      <td>BCN_0003499</td>\n",
       "    </tr>\n",
       "    <tr>\n",
       "      <th>3</th>\n",
       "      <td>C:\\BCN20000\\BCN_20k_train\\bcn_20k_train\\BCN_00...</td>\n",
       "      <td>NV</td>\n",
       "      <td>BCN_0003316</td>\n",
       "    </tr>\n",
       "    <tr>\n",
       "      <th>4</th>\n",
       "      <td>C:\\BCN20000\\BCN_20k_train\\bcn_20k_train\\BCN_00...</td>\n",
       "      <td>BCC</td>\n",
       "      <td>BCN_0004874</td>\n",
       "    </tr>\n",
       "  </tbody>\n",
       "</table>\n",
       "</div>"
      ],
      "text/plain": [
       "                                            filepath diagnosis    lesion_id\n",
       "0  C:\\BCN20000\\BCN_20k_train\\bcn_20k_train\\BCN_00...       MEL  BCN_0003884\n",
       "1  C:\\BCN20000\\BCN_20k_train\\bcn_20k_train\\BCN_00...       MEL  BCN_0000019\n",
       "2  C:\\BCN20000\\BCN_20k_train\\bcn_20k_train\\BCN_00...       SCC  BCN_0003499\n",
       "3  C:\\BCN20000\\BCN_20k_train\\bcn_20k_train\\BCN_00...        NV  BCN_0003316\n",
       "4  C:\\BCN20000\\BCN_20k_train\\bcn_20k_train\\BCN_00...       BCC  BCN_0004874"
      ]
     },
     "execution_count": 32,
     "metadata": {},
     "output_type": "execute_result"
    }
   ],
   "source": [
    "# Ruta a la carpeta donde están todas las imágenes mezcladas\n",
    "img_dir = r\"C:\\BCN20000\\BCN_20k_train\\bcn_20k_train\"\n",
    "\n",
    "# Añadimos la columna con la ruta completa\n",
    "df[\"filepath\"] = df[\"bcn_filename\"].apply(lambda x: f\"{img_dir}\\{x}\")\n",
    "df = df[[\"filepath\", \"diagnosis\", \"lesion_id\"]]\n",
    "\n",
    "# Verificamos\n",
    "df.head()"
   ]
  },
  {
   "cell_type": "markdown",
   "id": "f6e8ce48",
   "metadata": {},
   "source": [
    "Asignamos etiquetas numéricas a cada diagnóstico"
   ]
  },
  {
   "cell_type": "code",
   "execution_count": 33,
   "id": "5ffa8479",
   "metadata": {},
   "outputs": [
    {
     "name": "stdout",
     "output_type": "stream",
     "text": [
      "Etiquetas asignadas:\n",
      "{'AK': 0, 'BCC': 1, 'BKL': 2, 'DF': 3, 'MEL': 4, 'NV': 5, 'SCC': 6, 'VASC': 7}\n"
     ]
    }
   ],
   "source": [
    "# Asignamos un número único a cada diagnóstico\n",
    "label_map = {label: idx for idx, label in enumerate(sorted(df[\"diagnosis\"].unique()))}\n",
    "df[\"label\"] = df[\"diagnosis\"].map(label_map)\n",
    "\n",
    "print(\"Etiquetas asignadas:\")\n",
    "print(label_map)"
   ]
  },
  {
   "cell_type": "markdown",
   "id": "4969372b",
   "metadata": {},
   "source": [
    "Dividir de forma estratificada sin mezclar lesion_id"
   ]
  },
  {
   "cell_type": "markdown",
   "id": "306139e7",
   "metadata": {},
   "source": [
    "Usamos StratifiedGroupKFold para que no haya imágenes de la misma lesion_id en splits diferentes."
   ]
  },
  {
   "cell_type": "code",
   "execution_count": 34,
   "id": "e1b20540",
   "metadata": {},
   "outputs": [],
   "source": [
    "from sklearn.model_selection import StratifiedGroupKFold\n",
    "\n",
    "# Creamos el objeto de KFold estratificado por grupo (lesion_id)\n",
    "sgkf = StratifiedGroupKFold(n_splits=5, shuffle=True, random_state=42)\n",
    "\n",
    "# Obtenemos los índices\n",
    "for train_val_idx, test_idx in sgkf.split(df, df[\"label\"], groups=df[\"lesion_id\"]):\n",
    "    break  # Solo queremos una partición (1 split)\n",
    "\n",
    "train_val_df = df.iloc[train_val_idx]\n",
    "test_df = df.iloc[test_idx]"
   ]
  },
  {
   "cell_type": "markdown",
   "id": "34a142d9",
   "metadata": {},
   "source": [
    "Ahora hacemos otro split dentro del conjunto train_val_df para obtener validación"
   ]
  },
  {
   "cell_type": "code",
   "execution_count": 35,
   "id": "70326461",
   "metadata": {},
   "outputs": [
    {
     "name": "stdout",
     "output_type": "stream",
     "text": [
      "Train: 8971\n",
      "Validation: 997\n",
      "Test: 2445\n"
     ]
    }
   ],
   "source": [
    "from sklearn.model_selection import train_test_split\n",
    "\n",
    "# Dividimos entrenamiento y validación\n",
    "train_df, val_df = train_test_split(\n",
    "    train_val_df,\n",
    "    test_size=0.1,  # 10% de validación\n",
    "    stratify=train_val_df[\"label\"],\n",
    "    random_state=42\n",
    ")\n",
    "\n",
    "# Mostramos tamaños\n",
    "print(f\"Train: {len(train_df)}\")\n",
    "print(f\"Validation: {len(val_df)}\")\n",
    "print(f\"Test: {len(test_df)}\")"
   ]
  },
  {
   "cell_type": "markdown",
   "id": "94309e67",
   "metadata": {},
   "source": [
    "Guardar CSVs para usar en TensorFlow"
   ]
  },
  {
   "cell_type": "code",
   "execution_count": 36,
   "id": "d92e5770",
   "metadata": {},
   "outputs": [
    {
     "name": "stdout",
     "output_type": "stream",
     "text": [
      "Splits guardados con éxito.\n"
     ]
    }
   ],
   "source": [
    "# Guardamos los splits como CSVs\n",
    "train_df.to_csv(\"train_split.csv\", index=False)\n",
    "val_df.to_csv(\"val_split.csv\", index=False)\n",
    "test_df.to_csv(\"test_split.csv\", index=False)\n",
    "\n",
    "print(\"Splits guardados con éxito.\")"
   ]
  },
  {
   "cell_type": "markdown",
   "id": "0e10a57d",
   "metadata": {},
   "source": [
    "Acabamos de crear tres archivos CSV (train_split.csv, val_split.csv, test_split.csv) que apuntan a las rutas absolutas de las imágenes, sin mover, copiar ni alterar nada en la carpeta original BCN20000.\n",
    "\n",
    "Evitamos tocar el dataset original: la carpeta con imágenes mezcladas queda intacta.\n",
    "\n",
    "Evitamos duplicados o inconsistencias: cada split es coherente y sin data leakage (gracias a la separación por lesion_id).\n",
    "\n",
    "Compatibilidad con TensorFlow."
   ]
  }
 ],
 "metadata": {
  "kernelspec": {
   "display_name": "venv",
   "language": "python",
   "name": "python3"
  },
  "language_info": {
   "codemirror_mode": {
    "name": "ipython",
    "version": 3
   },
   "file_extension": ".py",
   "mimetype": "text/x-python",
   "name": "python",
   "nbconvert_exporter": "python",
   "pygments_lexer": "ipython3",
   "version": "3.9.13"
  }
 },
 "nbformat": 4,
 "nbformat_minor": 5
}
