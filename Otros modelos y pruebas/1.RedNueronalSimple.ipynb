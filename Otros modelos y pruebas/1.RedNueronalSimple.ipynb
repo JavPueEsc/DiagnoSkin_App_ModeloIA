{
 "cells": [
  {
   "cell_type": "markdown",
   "metadata": {},
   "source": [
    "# Entrenar una ia para calcular celsius --> Fahrenheit. Red simple"
   ]
  },
  {
   "cell_type": "code",
   "execution_count": 13,
   "metadata": {},
   "outputs": [],
   "source": [
    "'''\n",
    "numpy se utiliza para trabajar fácilmente con arreglos numéricos.\n",
    "'''\n",
    "import tensorflow as tf\n",
    "import numpy as np"
   ]
  },
  {
   "cell_type": "code",
   "execution_count": null,
   "metadata": {},
   "outputs": [],
   "source": [
    "'''\n",
    "Declaramos dos np.arrays: Uno con las entradas de los valores celsius\n",
    "y otro con los valores de salida tras la transformación. Estos son los\n",
    "Arrays que la IA utilizará para aprender\n",
    "'''\n",
    "celsius = np.array([-40, -10, 0, 8, 15, 22, 38], dtype=float)\n",
    "fahrenheit = np.array([-40, 14, 32, 46, 59, 72, 100], dtype=float)"
   ]
  },
  {
   "cell_type": "code",
   "execution_count": null,
   "metadata": {},
   "outputs": [
    {
     "name": "stderr",
     "output_type": "stream",
     "text": [
      "c:\\Users\\dekad\\Desktop\\GrupoStudium\\3. Segundo DAM\\7. Proyecto integrado\\Espacio de trabajo\\venv\\lib\\site-packages\\keras\\src\\layers\\core\\dense.py:87: UserWarning: Do not pass an `input_shape`/`input_dim` argument to a layer. When using Sequential models, prefer using an `Input(shape)` object as the first layer in the model instead.\n",
      "  super().__init__(activity_regularizer=activity_regularizer, **kwargs)\n"
     ]
    }
   ],
   "source": [
    "''' \n",
    "DISEÑO DEL MODELO DE RED NEURONAL:\n",
    "Para ello se urilizará el Framework KERAS (Ya viene integrado en tensorflow)\n",
    "KERAS permite la creación de redes neuronales de manera simple.\n",
    "\n",
    "En este caso, el modelo solo tendrá dos capas; capa de ENTRADA y capa de SALIDA.\n",
    "Con Keras podemos definir las dos capas por separado, o definir solo la de salida \n",
    "(indicando el número de neuronas que tiene) dando por hecho que hay una capa de entrada \n",
    "(también indicando el núemro de neuronas que tiene) <--(vamos a usar esta opción)\n",
    "\n",
    "Definimos la capa como tipo DENSA. Esto sirve para indicar que todas las neuronas de la\n",
    "capa de salida, están conectadas con todas las neuronas de la capa de salida. En nuestro ejemplo\n",
    "solo tenemos una neurona en cada capa, por tanto solo habrá una unión. Existen capas NO DENSAS donde\n",
    "no se cumple lo anterior.\n",
    "\n",
    "En la variable modelo, establecemos el modelo de la IA, que en este caso se\n",
    "escoge como secuencial (para redes neuronales simples, en caso de otros modelos de redes\n",
    "como los que usaremos para diferenciar imágenes usaremos otro) y le asignamos las capas.\n",
    "'''\n",
    "capa = tf.keras.layers.Dense(units =1, input_shape=[1])\n",
    "modelo = tf.keras.Sequential([capa])"
   ]
  },
  {
   "cell_type": "code",
   "execution_count": null,
   "metadata": {},
   "outputs": [],
   "source": [
    "''' \n",
    "COMPILAR EL MODELO --> Para que pueda ser entrenado\n",
    "Tenemos que decirle como queremos que procese los cálculos para optimizar el aprendizaje.\n",
    "indicamos dos propiedades; el optimizador y la función de pérdida.\n",
    "-Optimizador: Utilizamos uno llamado Adam. Es un algoritmo que le permite a la red\n",
    "ajustar los pesos y sesgos para que aprenda de forma eficiente y no desaprenda.\n",
    "El valor que le indicamos es la tasa de aprendizaje, ese numero le dice a la red cuanto ajustar los pesos\n",
    "y sesgos. Si es pequeño ajustará muy poco y tardará mucho en aprender. Si es muy grande se pàsará\n",
    "del númeroesperado y no podrá realizar cambios finos más precisos. Debemos escoger bien este número.\n",
    "Función de pérdida: Para la función de pérdida usaremos un algoritmo llamado error cuadrático medio.\n",
    "Considera que una pequeña cantidad de errores GRANDES es PEOR que muchos errores pequeños.\n",
    "\n",
    "'''\n",
    "modelo.compile(\n",
    "   optimizer = tf.keras.optimizers.Adam(0.1),\n",
    "   loss='mean_squared_error'\n",
    ")   "
   ]
  },
  {
   "cell_type": "code",
   "execution_count": null,
   "metadata": {},
   "outputs": [
    {
     "name": "stdout",
     "output_type": "stream",
     "text": [
      "Comenzando el entrenamiento...\n",
      "¡Modelo entrenado!\n"
     ]
    }
   ],
   "source": [
    "''' \n",
    "Comenzamos el entrenamiento con el método fit()\n",
    "Para ello le metemos los valores de entrada, los de salida y le indicamos cuantas veces queremos\n",
    "que realice el entrenamiento. Lo de verbose = false es para que no imprima muchos datos\n",
    "que no nos sirven\n",
    "'''\n",
    "print(\"Comenzando el entrenamiento...\")\n",
    "historial = modelo.fit(celsius, fahrenheit, epochs=1000, verbose= False)\n",
    "print(\"¡Modelo entrenado!\")"
   ]
  },
  {
   "cell_type": "code",
   "execution_count": null,
   "metadata": {},
   "outputs": [
    {
     "data": {
      "text/plain": [
       "[<matplotlib.lines.Line2D at 0x1eb0d92dd90>]"
      ]
     },
     "execution_count": 18,
     "metadata": {},
     "output_type": "execute_result"
    },
    {
     "data": {
      "image/png": "[encoded data removed]",
      "text/plain": [
       "<Figure size 640x480 with 1 Axes>"
      ]
     },
     "metadata": {},
     "output_type": "display_data"
    }
   ],
   "source": [
    "''' \n",
    "Ahora imprimimos el resultado de la función de pérdida. Este resultado indica \n",
    "que tan mal están los resultados de la red en cada vuelta que dió en el entrenamiento.\n",
    "Usamos matploid para mostrar gráficos.\n",
    "Vemos que en este caso, alrededor de la vuelta 500 ya no aprendió mas.\n",
    "'''\n",
    "import matplotlib.pyplot as plt\n",
    "plt.xlabel(\"# Epoca\")\n",
    "plt.ylabel(\"Magnitud de pérdida\")\n",
    "plt.plot(historial.history[\"loss\"])"
   ]
  },
  {
   "cell_type": "code",
   "execution_count": 19,
   "metadata": {},
   "outputs": [
    {
     "name": "stdout",
     "output_type": "stream",
     "text": [
      "Hagamos una predicción!\n",
      "\u001b[1m1/1\u001b[0m \u001b[32m━━━━━━━━━━━━━━━━━━━━\u001b[0m\u001b[37m\u001b[0m \u001b[1m0s\u001b[0m 64ms/step\n",
      "El resultado es [[211.74405]] fahrenheit!\n"
     ]
    }
   ],
   "source": [
    "print(\"Hagamos una predicción!\")\n",
    "entrada = np.array([100.0], dtype=float)\n",
    "resultado = modelo.predict(entrada)\n",
    "print(\"El resultado es \"+str(resultado)+\" fahrenheit!\")"
   ]
  },
  {
   "cell_type": "code",
   "execution_count": null,
   "metadata": {},
   "outputs": [
    {
     "name": "stdout",
     "output_type": "stream",
     "text": [
      "Variables internas del modelo\n",
      "[array([[1.7981337]], dtype=float32), array([31.930674], dtype=float32)]\n"
     ]
    }
   ],
   "source": [
    "''' \n",
    "Esta línea no es necesaria y solo aporta información relevante en redes simples como\n",
    "esta. En redes más complejas es dificil interpretar estos resultados.\n",
    "Lo que vamos a ver son los valores que finalmente se asignó al peso de la conexión\n",
    "entre las dos únicas neuronas de la red y el sesgo asignado a la neurona de salida.\n",
    "peso: 1.7981337\n",
    "sesgo: 31.930674\n",
    "En este caso, al ser una función lineal, es posible resolver este problema con una red simple.\n",
    "Sin embargo, una operación más compleja requiere de una red mas sofisticada.\n",
    "'''\n",
    "print(\"Variables internas del modelo\")\n",
    "print(capa.get_weights())"
   ]
  }
 ],
 "metadata": {
  "kernelspec": {
   "display_name": "venv",
   "language": "python",
   "name": "python3"
  },
  "language_info": {
   "codemirror_mode": {
    "name": "ipython",
    "version": 3
   },
   "file_extension": ".py",
   "mimetype": "text/x-python",
   "name": "python",
   "nbconvert_exporter": "python",
   "pygments_lexer": "ipython3",
   "version": "3.9.13"
  }
 },
 "nbformat": 4,
 "nbformat_minor": 2
}
