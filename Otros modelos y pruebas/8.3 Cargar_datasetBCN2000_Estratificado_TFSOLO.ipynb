{
 "cells": [
  {
   "cell_type": "markdown",
   "id": "f5eb4fbb",
   "metadata": {},
   "source": [
    "# Cargar el dataset estratificado gracias a los archivos CSV"
   ]
  },
  {
   "cell_type": "code",
   "execution_count": 1,
   "id": "4c65c421",
   "metadata": {},
   "outputs": [
    {
     "name": "stdout",
     "output_type": "stream",
     "text": [
      "Primeras filas del dataset de entrenamiento:\n",
      "         bcn_filename  age_approx anatom_site_general diagnosis    lesion_id  \\\n",
      "0  BCN_0000003955.jpg        45.0      anterior torso        NV  BCN_0001511   \n",
      "1  BCN_0000018219.jpg        35.0     lower extremity        NV  BCN_0000149   \n",
      "2  BCN_0000002541.jpg        70.0      anterior torso       SCC  BCN_0001083   \n",
      "3  BCN_0000015263.jpg        75.0     upper extremity       MEL  BCN_0003910   \n",
      "4  BCN_0000005744.jpg        45.0      anterior torso        NV  BCN_0002731   \n",
      "\n",
      "  capture_date     sex  split  \\\n",
      "0   2015-11-27  female  train   \n",
      "1   2015-07-03  female  train   \n",
      "2   2013-04-02    male  train   \n",
      "3   2015-01-30  female  train   \n",
      "4   2014-02-13    male  train   \n",
      "\n",
      "                                            filepath  label  \n",
      "0  C:\\BCN20000\\BCN_20k_train\\bcn_20k_train\\BCN_00...      5  \n",
      "1  C:\\BCN20000\\BCN_20k_train\\bcn_20k_train\\BCN_00...      5  \n",
      "2  C:\\BCN20000\\BCN_20k_train\\bcn_20k_train\\BCN_00...      6  \n",
      "3  C:\\BCN20000\\BCN_20k_train\\bcn_20k_train\\BCN_00...      4  \n",
      "4  C:\\BCN20000\\BCN_20k_train\\bcn_20k_train\\BCN_00...      5  \n",
      "\n",
      "Primeras filas del dataset de validación:\n",
      "         bcn_filename  age_approx anatom_site_general diagnosis    lesion_id  \\\n",
      "0  BCN_0000012107.jpg        65.0     lower extremity       BCC  BCN_0002064   \n",
      "1  BCN_0000009972.jpg        50.0      anterior torso       MEL  BCN_0001728   \n",
      "2  BCN_0000018904.jpg        40.0      anterior torso       BKL  BCN_0004569   \n",
      "3  BCN_0000011616.jpg        85.0     upper extremity       BKL  BCN_0001776   \n",
      "4  BCN_0000013586.jpg        75.0     upper extremity       MEL  BCN_0003200   \n",
      "\n",
      "  capture_date     sex  split  \\\n",
      "0   2015-11-10  female  train   \n",
      "1   2015-09-21    male  train   \n",
      "2   2011-09-29    male  train   \n",
      "3   2016-02-01    male  train   \n",
      "4   2013-12-12  female  train   \n",
      "\n",
      "                                            filepath  label  \n",
      "0  C:\\BCN20000\\BCN_20k_train\\bcn_20k_train\\BCN_00...      1  \n",
      "1  C:\\BCN20000\\BCN_20k_train\\bcn_20k_train\\BCN_00...      4  \n",
      "2  C:\\BCN20000\\BCN_20k_train\\bcn_20k_train\\BCN_00...      2  \n",
      "3      C:\\BCN20000\\cropped_images\\BCN_0000011616.jpg      2  \n",
      "4      C:\\BCN20000\\cropped_images\\BCN_0000013586.jpg      4  \n",
      "\n",
      "Primeras filas del dataset de prueba:\n",
      "         bcn_filename  age_approx anatom_site_general diagnosis    lesion_id  \\\n",
      "0  BCN_0000000001.jpg        55.0      anterior torso       MEL  BCN_0003884   \n",
      "1  BCN_0000000016.jpg        80.0           head/neck       MEL  BCN_0003352   \n",
      "2  BCN_0000000026.jpg        60.0     lower extremity       MEL  BCN_0001437   \n",
      "3  BCN_0000000029.jpg        30.0     lower extremity        NV  BCN_0005484   \n",
      "4  BCN_0000000039.jpg        40.0     upper extremity       MEL  BCN_0000509   \n",
      "\n",
      "  capture_date     sex  split  \\\n",
      "0   2012-05-16    male  train   \n",
      "1   2012-02-03  female  train   \n",
      "2   2014-11-04  female  train   \n",
      "3   2015-06-18  female  train   \n",
      "4   2016-03-31    male  train   \n",
      "\n",
      "                                            filepath  label  \n",
      "0  C:\\BCN20000\\BCN_20k_train\\bcn_20k_train\\BCN_00...      4  \n",
      "1  C:\\BCN20000\\BCN_20k_train\\bcn_20k_train\\BCN_00...      4  \n",
      "2      C:\\BCN20000\\cropped_images\\BCN_0000000026.jpg      4  \n",
      "3  C:\\BCN20000\\BCN_20k_train\\bcn_20k_train\\BCN_00...      5  \n",
      "4  C:\\BCN20000\\BCN_20k_train\\bcn_20k_train\\BCN_00...      4  \n"
     ]
    }
   ],
   "source": [
    "import tensorflow as tf\n",
    "import pandas as pd\n",
    "import numpy as np\n",
    "from sklearn.preprocessing import LabelEncoder\n",
    "\n",
    "# Cargar los CSVs con las rutas absolutas de las imágenes y las etiquetas\n",
    "train_df = pd.read_csv(r\"C:\\BCN20000\\train_split.csv\")\n",
    "val_df = pd.read_csv(r\"C:\\BCN20000\\val_split.csv\")\n",
    "test_df = pd.read_csv(r\"C:\\BCN20000\\test_split.csv\")\n",
    "\n",
    "# Visualizar las primeras filas de los CSVs cargados\n",
    "print(\"Primeras filas del dataset de entrenamiento:\")\n",
    "print(train_df.head())\n",
    "\n",
    "print(\"\\nPrimeras filas del dataset de validación:\")\n",
    "print(val_df.head())\n",
    "\n",
    "print(\"\\nPrimeras filas del dataset de prueba:\")\n",
    "print(test_df.head())\n"
   ]
  },
  {
   "cell_type": "markdown",
   "id": "ff237707",
   "metadata": {},
   "source": [
    "Procesamiento y normalización de imágenes"
   ]
  },
  {
   "cell_type": "code",
   "execution_count": 2,
   "id": "69d1a3e3",
   "metadata": {},
   "outputs": [],
   "source": [
    "# Función para cargar y preprocesar las imágenes\n",
    "def load_image(image_path):\n",
    "    image = tf.io.read_file(image_path)  # Leer la imagen desde la ruta\n",
    "    image = tf.image.decode_jpeg(image, channels=3)  # Decodificar imagen JPG\n",
    "    image = tf.image.resize(image, [224, 224])  # Redimensionar a un tamaño común (224x224)\n",
    "    image = tf.cast(image, tf.float32) / 255.0  # Normalizar las imágenes a [0, 1]\n",
    "    return image\n",
    "\n",
    "# Función para preparar los datos de entrada\n",
    "def prepare_data(df):\n",
    "    # Cargar imágenes y etiquetas desde las columnas 'filepath' y 'label'\n",
    "    image_paths = df['filepath'].values\n",
    "    labels = df['label'].values\n",
    "    \n",
    "    # Convertir las rutas y etiquetas a tensores de TensorFlow\n",
    "    image_paths = tf.constant(image_paths)\n",
    "    labels = tf.constant(labels)\n",
    "    \n",
    "    # Cargar imágenes y preprocesarlas\n",
    "    images = tf.map_fn(load_image, image_paths, dtype=tf.float32)\n",
    "    \n",
    "    return tf.data.Dataset.from_tensor_slices((images, labels))  # Crear datasets"
   ]
  },
  {
   "cell_type": "code",
   "execution_count": 3,
   "id": "7d20a407",
   "metadata": {},
   "outputs": [],
   "source": [
    "# Balanceo de clases utilizando class_weight\n",
    "class_weights = {0: 1.0, 1: 2.0, 2: 3.0, 3: 1.5, 4: 1.0, 5: 2.5, 6: 3.0, 7: 1.5}"
   ]
  },
  {
   "cell_type": "markdown",
   "id": "fd0e6647",
   "metadata": {},
   "source": [
    "Crear el dataset de entrenamiento, validación y prueba.\n",
    "Usamos la función prepare_data para crear datasets para el entrenamiento, validación y prueba, y luego los preparamos para el entrenamiento utilizando batch y shuffle."
   ]
  },
  {
   "cell_type": "code",
   "execution_count": 4,
   "id": "39654299",
   "metadata": {},
   "outputs": [
    {
     "name": "stdout",
     "output_type": "stream",
     "text": [
      "Tamaño del dataset de entrenamiento: 8971\n",
      "Tamaño del dataset de validación: 997\n",
      "Tamaño del dataset de prueba: 2445\n"
     ]
    }
   ],
   "source": [
    "# Preparar los datasets con balanceo\n",
    "train_dataset = prepare_data(train_df).shuffle(1000).batch(32)  # Barajar y agrupar en lotes\n",
    "val_dataset = prepare_data(val_df).batch(32)  # Validación sin barajar\n",
    "test_dataset = prepare_data(test_df).batch(32)  # Test sin barajar\n",
    "\n",
    "# Ver el tamaño de los datasets\n",
    "print(\"Tamaño del dataset de entrenamiento:\", len(train_df))\n",
    "print(\"Tamaño del dataset de validación:\", len(val_df))\n",
    "print(\"Tamaño del dataset de prueba:\", len(test_df))"
   ]
  },
  {
   "cell_type": "markdown",
   "id": "5b132814",
   "metadata": {},
   "source": [
    "Construir el modelo con tensorflow, utilizando como base EfficientNetB0 ya que puede ofrecer mejor eficiencia y precisión que MobileNetV2 en tareas de clasificación médica."
   ]
  },
  {
   "cell_type": "code",
   "execution_count": 5,
   "id": "e74e14be",
   "metadata": {},
   "outputs": [],
   "source": [
    "# Crear el modelo EfficientNetB0\n",
    "from tensorflow.keras.applications import EfficientNetB0\n",
    "from tensorflow.keras.models import Sequential\n",
    "from tensorflow.keras.layers import GlobalAveragePooling2D, Dense, Dropout\n",
    "\n",
    "base_model = EfficientNetB0(weights='imagenet', include_top=False, input_shape=(224, 224, 3))"
   ]
  },
  {
   "cell_type": "code",
   "execution_count": 6,
   "id": "52656cfe",
   "metadata": {},
   "outputs": [],
   "source": [
    "# Congelar las capas del modelo base para que no se entrenen\n",
    "base_model.trainable = False\n"
   ]
  },
  {
   "cell_type": "code",
   "execution_count": 7,
   "id": "e92187e1",
   "metadata": {},
   "outputs": [],
   "source": [
    "# Crear el modelo con EfficientNetB0 como base\n",
    "model = Sequential([\n",
    "    base_model,\n",
    "    GlobalAveragePooling2D(),\n",
    "    Dense(128, activation='relu'),\n",
    "    Dense(8, activation='softmax')  # Ajusta el número de clases según tu dataset\n",
    "])"
   ]
  },
  {
   "cell_type": "code",
   "execution_count": 8,
   "id": "b7f5b331",
   "metadata": {},
   "outputs": [],
   "source": [
    "# Compilar el modelo\n",
    "model.compile(optimizer=tf.keras.optimizers.Adam(learning_rate=0.0001),\n",
    "              loss='sparse_categorical_crossentropy',  # Utilizamos sparse_categorical_crossentropy para etiquetas enteras\n",
    "              metrics=['accuracy'])"
   ]
  },
  {
   "cell_type": "code",
   "execution_count": 9,
   "id": "60fef473",
   "metadata": {},
   "outputs": [
    {
     "name": "stdout",
     "output_type": "stream",
     "text": [
      "Model: \"sequential\"\n",
      "_________________________________________________________________\n",
      " Layer (type)                Output Shape              Param #   \n",
      "=================================================================\n",
      " efficientnetb0 (Functional)  (None, 7, 7, 1280)       4049571   \n",
      "                                                                 \n",
      " global_average_pooling2d (G  (None, 1280)             0         \n",
      " lobalAveragePooling2D)                                          \n",
      "                                                                 \n",
      " dense (Dense)               (None, 128)               163968    \n",
      "                                                                 \n",
      " dense_1 (Dense)             (None, 8)                 1032      \n",
      "                                                                 \n",
      "=================================================================\n",
      "Total params: 4,214,571\n",
      "Trainable params: 165,000\n",
      "Non-trainable params: 4,049,571\n",
      "_________________________________________________________________\n"
     ]
    }
   ],
   "source": [
    "# Resumen del modelo\n",
    "model.summary()"
   ]
  },
  {
   "cell_type": "code",
   "execution_count": 10,
   "id": "2478a988",
   "metadata": {},
   "outputs": [
    {
     "name": "stdout",
     "output_type": "stream",
     "text": [
      "Epoch 1/130\n",
      "281/281 [==============================] - 334s 1s/step - loss: 3.1652 - accuracy: 0.3411 - val_loss: 1.6905 - val_accuracy: 0.3420\n",
      "Epoch 2/130\n",
      "281/281 [==============================] - 310s 1s/step - loss: 3.1065 - accuracy: 0.3421 - val_loss: 1.6837 - val_accuracy: 0.3420\n",
      "Epoch 3/130\n",
      "281/281 [==============================] - 328s 1s/step - loss: 3.1071 - accuracy: 0.3421 - val_loss: 1.6917 - val_accuracy: 0.3420\n",
      "Epoch 4/130\n",
      "281/281 [==============================] - 327s 1s/step - loss: 3.1061 - accuracy: 0.3421 - val_loss: 1.6958 - val_accuracy: 0.3420\n",
      "Epoch 5/130\n",
      " 76/281 [=======>......................] - ETA: 3:31 - loss: 3.1092 - accuracy: 0.3561"
     ]
    },
    {
     "ename": "KeyboardInterrupt",
     "evalue": "",
     "output_type": "error",
     "traceback": [
      "\u001b[1;31m---------------------------------------------------------------------------\u001b[0m",
      "\u001b[1;31mKeyboardInterrupt\u001b[0m                         Traceback (most recent call last)",
      "Cell \u001b[1;32mIn[10], line 2\u001b[0m\n\u001b[0;32m      1\u001b[0m \u001b[38;5;66;03m# Entrenar el modelo\u001b[39;00m\n\u001b[1;32m----> 2\u001b[0m history \u001b[38;5;241m=\u001b[39m \u001b[43mmodel\u001b[49m\u001b[38;5;241;43m.\u001b[39;49m\u001b[43mfit\u001b[49m\u001b[43m(\u001b[49m\n\u001b[0;32m      3\u001b[0m \u001b[43m    \u001b[49m\u001b[43mtrain_dataset\u001b[49m\u001b[43m,\u001b[49m\n\u001b[0;32m      4\u001b[0m \u001b[43m    \u001b[49m\u001b[43mepochs\u001b[49m\u001b[38;5;241;43m=\u001b[39;49m\u001b[38;5;241;43m130\u001b[39;49m\u001b[43m,\u001b[49m\u001b[43m  \u001b[49m\u001b[38;5;66;43;03m# Entrenar durante 130 épocas (como en el código de PyTorch)\u001b[39;49;00m\n\u001b[0;32m      5\u001b[0m \u001b[43m    \u001b[49m\u001b[43mvalidation_data\u001b[49m\u001b[38;5;241;43m=\u001b[39;49m\u001b[43mval_dataset\u001b[49m\u001b[43m,\u001b[49m\n\u001b[0;32m      6\u001b[0m \u001b[43m    \u001b[49m\u001b[43mverbose\u001b[49m\u001b[38;5;241;43m=\u001b[39;49m\u001b[38;5;241;43m1\u001b[39;49m\u001b[43m,\u001b[49m\n\u001b[0;32m      7\u001b[0m \u001b[43m    \u001b[49m\u001b[43mclass_weight\u001b[49m\u001b[38;5;241;43m=\u001b[39;49m\u001b[43mclass_weights\u001b[49m\u001b[43m  \u001b[49m\u001b[38;5;66;43;03m# Ajustar pesos de las clases\u001b[39;49;00m\n\u001b[0;32m      8\u001b[0m \u001b[43m)\u001b[49m\n",
      "File \u001b[1;32mc:\\Users\\dekad\\Desktop\\GrupoStudium\\3. Segundo DAM\\7. Proyecto integrado\\Espacio de trabajo\\venv\\lib\\site-packages\\keras\\utils\\traceback_utils.py:65\u001b[0m, in \u001b[0;36mfilter_traceback.<locals>.error_handler\u001b[1;34m(*args, **kwargs)\u001b[0m\n\u001b[0;32m     63\u001b[0m filtered_tb \u001b[38;5;241m=\u001b[39m \u001b[38;5;28;01mNone\u001b[39;00m\n\u001b[0;32m     64\u001b[0m \u001b[38;5;28;01mtry\u001b[39;00m:\n\u001b[1;32m---> 65\u001b[0m     \u001b[38;5;28;01mreturn\u001b[39;00m fn(\u001b[38;5;241m*\u001b[39margs, \u001b[38;5;241m*\u001b[39m\u001b[38;5;241m*\u001b[39mkwargs)\n\u001b[0;32m     66\u001b[0m \u001b[38;5;28;01mexcept\u001b[39;00m \u001b[38;5;167;01mException\u001b[39;00m \u001b[38;5;28;01mas\u001b[39;00m e:\n\u001b[0;32m     67\u001b[0m     filtered_tb \u001b[38;5;241m=\u001b[39m _process_traceback_frames(e\u001b[38;5;241m.\u001b[39m__traceback__)\n",
      "File \u001b[1;32mc:\\Users\\dekad\\Desktop\\GrupoStudium\\3. Segundo DAM\\7. Proyecto integrado\\Espacio de trabajo\\venv\\lib\\site-packages\\keras\\engine\\training.py:1685\u001b[0m, in \u001b[0;36mModel.fit\u001b[1;34m(self, x, y, batch_size, epochs, verbose, callbacks, validation_split, validation_data, shuffle, class_weight, sample_weight, initial_epoch, steps_per_epoch, validation_steps, validation_batch_size, validation_freq, max_queue_size, workers, use_multiprocessing)\u001b[0m\n\u001b[0;32m   1677\u001b[0m \u001b[38;5;28;01mwith\u001b[39;00m tf\u001b[38;5;241m.\u001b[39mprofiler\u001b[38;5;241m.\u001b[39mexperimental\u001b[38;5;241m.\u001b[39mTrace(\n\u001b[0;32m   1678\u001b[0m     \u001b[38;5;124m\"\u001b[39m\u001b[38;5;124mtrain\u001b[39m\u001b[38;5;124m\"\u001b[39m,\n\u001b[0;32m   1679\u001b[0m     epoch_num\u001b[38;5;241m=\u001b[39mepoch,\n\u001b[1;32m   (...)\u001b[0m\n\u001b[0;32m   1682\u001b[0m     _r\u001b[38;5;241m=\u001b[39m\u001b[38;5;241m1\u001b[39m,\n\u001b[0;32m   1683\u001b[0m ):\n\u001b[0;32m   1684\u001b[0m     callbacks\u001b[38;5;241m.\u001b[39mon_train_batch_begin(step)\n\u001b[1;32m-> 1685\u001b[0m     tmp_logs \u001b[38;5;241m=\u001b[39m \u001b[38;5;28;43mself\u001b[39;49m\u001b[38;5;241;43m.\u001b[39;49m\u001b[43mtrain_function\u001b[49m\u001b[43m(\u001b[49m\u001b[43miterator\u001b[49m\u001b[43m)\u001b[49m\n\u001b[0;32m   1686\u001b[0m     \u001b[38;5;28;01mif\u001b[39;00m data_handler\u001b[38;5;241m.\u001b[39mshould_sync:\n\u001b[0;32m   1687\u001b[0m         context\u001b[38;5;241m.\u001b[39masync_wait()\n",
      "File \u001b[1;32mc:\\Users\\dekad\\Desktop\\GrupoStudium\\3. Segundo DAM\\7. Proyecto integrado\\Espacio de trabajo\\venv\\lib\\site-packages\\tensorflow\\python\\util\\traceback_utils.py:150\u001b[0m, in \u001b[0;36mfilter_traceback.<locals>.error_handler\u001b[1;34m(*args, **kwargs)\u001b[0m\n\u001b[0;32m    148\u001b[0m filtered_tb \u001b[38;5;241m=\u001b[39m \u001b[38;5;28;01mNone\u001b[39;00m\n\u001b[0;32m    149\u001b[0m \u001b[38;5;28;01mtry\u001b[39;00m:\n\u001b[1;32m--> 150\u001b[0m   \u001b[38;5;28;01mreturn\u001b[39;00m fn(\u001b[38;5;241m*\u001b[39margs, \u001b[38;5;241m*\u001b[39m\u001b[38;5;241m*\u001b[39mkwargs)\n\u001b[0;32m    151\u001b[0m \u001b[38;5;28;01mexcept\u001b[39;00m \u001b[38;5;167;01mException\u001b[39;00m \u001b[38;5;28;01mas\u001b[39;00m e:\n\u001b[0;32m    152\u001b[0m   filtered_tb \u001b[38;5;241m=\u001b[39m _process_traceback_frames(e\u001b[38;5;241m.\u001b[39m__traceback__)\n",
      "File \u001b[1;32mc:\\Users\\dekad\\Desktop\\GrupoStudium\\3. Segundo DAM\\7. Proyecto integrado\\Espacio de trabajo\\venv\\lib\\site-packages\\tensorflow\\python\\eager\\polymorphic_function\\polymorphic_function.py:894\u001b[0m, in \u001b[0;36mFunction.__call__\u001b[1;34m(self, *args, **kwds)\u001b[0m\n\u001b[0;32m    891\u001b[0m compiler \u001b[38;5;241m=\u001b[39m \u001b[38;5;124m\"\u001b[39m\u001b[38;5;124mxla\u001b[39m\u001b[38;5;124m\"\u001b[39m \u001b[38;5;28;01mif\u001b[39;00m \u001b[38;5;28mself\u001b[39m\u001b[38;5;241m.\u001b[39m_jit_compile \u001b[38;5;28;01melse\u001b[39;00m \u001b[38;5;124m\"\u001b[39m\u001b[38;5;124mnonXla\u001b[39m\u001b[38;5;124m\"\u001b[39m\n\u001b[0;32m    893\u001b[0m \u001b[38;5;28;01mwith\u001b[39;00m OptionalXlaContext(\u001b[38;5;28mself\u001b[39m\u001b[38;5;241m.\u001b[39m_jit_compile):\n\u001b[1;32m--> 894\u001b[0m   result \u001b[38;5;241m=\u001b[39m \u001b[38;5;28mself\u001b[39m\u001b[38;5;241m.\u001b[39m_call(\u001b[38;5;241m*\u001b[39margs, \u001b[38;5;241m*\u001b[39m\u001b[38;5;241m*\u001b[39mkwds)\n\u001b[0;32m    896\u001b[0m new_tracing_count \u001b[38;5;241m=\u001b[39m \u001b[38;5;28mself\u001b[39m\u001b[38;5;241m.\u001b[39mexperimental_get_tracing_count()\n\u001b[0;32m    897\u001b[0m without_tracing \u001b[38;5;241m=\u001b[39m (tracing_count \u001b[38;5;241m==\u001b[39m new_tracing_count)\n",
      "File \u001b[1;32mc:\\Users\\dekad\\Desktop\\GrupoStudium\\3. Segundo DAM\\7. Proyecto integrado\\Espacio de trabajo\\venv\\lib\\site-packages\\tensorflow\\python\\eager\\polymorphic_function\\polymorphic_function.py:926\u001b[0m, in \u001b[0;36mFunction._call\u001b[1;34m(self, *args, **kwds)\u001b[0m\n\u001b[0;32m    923\u001b[0m   \u001b[38;5;28mself\u001b[39m\u001b[38;5;241m.\u001b[39m_lock\u001b[38;5;241m.\u001b[39mrelease()\n\u001b[0;32m    924\u001b[0m   \u001b[38;5;66;03m# In this case we have created variables on the first call, so we run the\u001b[39;00m\n\u001b[0;32m    925\u001b[0m   \u001b[38;5;66;03m# defunned version which is guaranteed to never create variables.\u001b[39;00m\n\u001b[1;32m--> 926\u001b[0m   \u001b[38;5;28;01mreturn\u001b[39;00m \u001b[38;5;28mself\u001b[39m\u001b[38;5;241m.\u001b[39m_no_variable_creation_fn(\u001b[38;5;241m*\u001b[39margs, \u001b[38;5;241m*\u001b[39m\u001b[38;5;241m*\u001b[39mkwds)  \u001b[38;5;66;03m# pylint: disable=not-callable\u001b[39;00m\n\u001b[0;32m    927\u001b[0m \u001b[38;5;28;01melif\u001b[39;00m \u001b[38;5;28mself\u001b[39m\u001b[38;5;241m.\u001b[39m_variable_creation_fn \u001b[38;5;129;01mis\u001b[39;00m \u001b[38;5;129;01mnot\u001b[39;00m \u001b[38;5;28;01mNone\u001b[39;00m:\n\u001b[0;32m    928\u001b[0m   \u001b[38;5;66;03m# Release the lock early so that multiple threads can perform the call\u001b[39;00m\n\u001b[0;32m    929\u001b[0m   \u001b[38;5;66;03m# in parallel.\u001b[39;00m\n\u001b[0;32m    930\u001b[0m   \u001b[38;5;28mself\u001b[39m\u001b[38;5;241m.\u001b[39m_lock\u001b[38;5;241m.\u001b[39mrelease()\n",
      "File \u001b[1;32mc:\\Users\\dekad\\Desktop\\GrupoStudium\\3. Segundo DAM\\7. Proyecto integrado\\Espacio de trabajo\\venv\\lib\\site-packages\\tensorflow\\python\\eager\\polymorphic_function\\tracing_compiler.py:143\u001b[0m, in \u001b[0;36mTracingCompiler.__call__\u001b[1;34m(self, *args, **kwargs)\u001b[0m\n\u001b[0;32m    140\u001b[0m \u001b[38;5;28;01mwith\u001b[39;00m \u001b[38;5;28mself\u001b[39m\u001b[38;5;241m.\u001b[39m_lock:\n\u001b[0;32m    141\u001b[0m   (concrete_function,\n\u001b[0;32m    142\u001b[0m    filtered_flat_args) \u001b[38;5;241m=\u001b[39m \u001b[38;5;28mself\u001b[39m\u001b[38;5;241m.\u001b[39m_maybe_define_function(args, kwargs)\n\u001b[1;32m--> 143\u001b[0m \u001b[38;5;28;01mreturn\u001b[39;00m \u001b[43mconcrete_function\u001b[49m\u001b[38;5;241;43m.\u001b[39;49m\u001b[43m_call_flat\u001b[49m\u001b[43m(\u001b[49m\n\u001b[0;32m    144\u001b[0m \u001b[43m    \u001b[49m\u001b[43mfiltered_flat_args\u001b[49m\u001b[43m,\u001b[49m\u001b[43m \u001b[49m\u001b[43mcaptured_inputs\u001b[49m\u001b[38;5;241;43m=\u001b[39;49m\u001b[43mconcrete_function\u001b[49m\u001b[38;5;241;43m.\u001b[39;49m\u001b[43mcaptured_inputs\u001b[49m\u001b[43m)\u001b[49m\n",
      "File \u001b[1;32mc:\\Users\\dekad\\Desktop\\GrupoStudium\\3. Segundo DAM\\7. Proyecto integrado\\Espacio de trabajo\\venv\\lib\\site-packages\\tensorflow\\python\\eager\\polymorphic_function\\monomorphic_function.py:1757\u001b[0m, in \u001b[0;36mConcreteFunction._call_flat\u001b[1;34m(self, args, captured_inputs, cancellation_manager)\u001b[0m\n\u001b[0;32m   1753\u001b[0m possible_gradient_type \u001b[38;5;241m=\u001b[39m gradients_util\u001b[38;5;241m.\u001b[39mPossibleTapeGradientTypes(args)\n\u001b[0;32m   1754\u001b[0m \u001b[38;5;28;01mif\u001b[39;00m (possible_gradient_type \u001b[38;5;241m==\u001b[39m gradients_util\u001b[38;5;241m.\u001b[39mPOSSIBLE_GRADIENT_TYPES_NONE\n\u001b[0;32m   1755\u001b[0m     \u001b[38;5;129;01mand\u001b[39;00m executing_eagerly):\n\u001b[0;32m   1756\u001b[0m   \u001b[38;5;66;03m# No tape is watching; skip to running the function.\u001b[39;00m\n\u001b[1;32m-> 1757\u001b[0m   \u001b[38;5;28;01mreturn\u001b[39;00m \u001b[38;5;28mself\u001b[39m\u001b[38;5;241m.\u001b[39m_build_call_outputs(\u001b[38;5;28;43mself\u001b[39;49m\u001b[38;5;241;43m.\u001b[39;49m\u001b[43m_inference_function\u001b[49m\u001b[38;5;241;43m.\u001b[39;49m\u001b[43mcall\u001b[49m\u001b[43m(\u001b[49m\n\u001b[0;32m   1758\u001b[0m \u001b[43m      \u001b[49m\u001b[43mctx\u001b[49m\u001b[43m,\u001b[49m\u001b[43m \u001b[49m\u001b[43margs\u001b[49m\u001b[43m,\u001b[49m\u001b[43m \u001b[49m\u001b[43mcancellation_manager\u001b[49m\u001b[38;5;241;43m=\u001b[39;49m\u001b[43mcancellation_manager\u001b[49m\u001b[43m)\u001b[49m)\n\u001b[0;32m   1759\u001b[0m forward_backward \u001b[38;5;241m=\u001b[39m \u001b[38;5;28mself\u001b[39m\u001b[38;5;241m.\u001b[39m_select_forward_and_backward_functions(\n\u001b[0;32m   1760\u001b[0m     args,\n\u001b[0;32m   1761\u001b[0m     possible_gradient_type,\n\u001b[0;32m   1762\u001b[0m     executing_eagerly)\n\u001b[0;32m   1763\u001b[0m forward_function, args_with_tangents \u001b[38;5;241m=\u001b[39m forward_backward\u001b[38;5;241m.\u001b[39mforward()\n",
      "File \u001b[1;32mc:\\Users\\dekad\\Desktop\\GrupoStudium\\3. Segundo DAM\\7. Proyecto integrado\\Espacio de trabajo\\venv\\lib\\site-packages\\tensorflow\\python\\eager\\polymorphic_function\\monomorphic_function.py:381\u001b[0m, in \u001b[0;36m_EagerDefinedFunction.call\u001b[1;34m(self, ctx, args, cancellation_manager)\u001b[0m\n\u001b[0;32m    379\u001b[0m \u001b[38;5;28;01mwith\u001b[39;00m _InterpolateFunctionError(\u001b[38;5;28mself\u001b[39m):\n\u001b[0;32m    380\u001b[0m   \u001b[38;5;28;01mif\u001b[39;00m cancellation_manager \u001b[38;5;129;01mis\u001b[39;00m \u001b[38;5;28;01mNone\u001b[39;00m:\n\u001b[1;32m--> 381\u001b[0m     outputs \u001b[38;5;241m=\u001b[39m \u001b[43mexecute\u001b[49m\u001b[38;5;241;43m.\u001b[39;49m\u001b[43mexecute\u001b[49m\u001b[43m(\u001b[49m\n\u001b[0;32m    382\u001b[0m \u001b[43m        \u001b[49m\u001b[38;5;28;43mstr\u001b[39;49m\u001b[43m(\u001b[49m\u001b[38;5;28;43mself\u001b[39;49m\u001b[38;5;241;43m.\u001b[39;49m\u001b[43msignature\u001b[49m\u001b[38;5;241;43m.\u001b[39;49m\u001b[43mname\u001b[49m\u001b[43m)\u001b[49m\u001b[43m,\u001b[49m\n\u001b[0;32m    383\u001b[0m \u001b[43m        \u001b[49m\u001b[43mnum_outputs\u001b[49m\u001b[38;5;241;43m=\u001b[39;49m\u001b[38;5;28;43mself\u001b[39;49m\u001b[38;5;241;43m.\u001b[39;49m\u001b[43m_num_outputs\u001b[49m\u001b[43m,\u001b[49m\n\u001b[0;32m    384\u001b[0m \u001b[43m        \u001b[49m\u001b[43minputs\u001b[49m\u001b[38;5;241;43m=\u001b[39;49m\u001b[43margs\u001b[49m\u001b[43m,\u001b[49m\n\u001b[0;32m    385\u001b[0m \u001b[43m        \u001b[49m\u001b[43mattrs\u001b[49m\u001b[38;5;241;43m=\u001b[39;49m\u001b[43mattrs\u001b[49m\u001b[43m,\u001b[49m\n\u001b[0;32m    386\u001b[0m \u001b[43m        \u001b[49m\u001b[43mctx\u001b[49m\u001b[38;5;241;43m=\u001b[39;49m\u001b[43mctx\u001b[49m\u001b[43m)\u001b[49m\n\u001b[0;32m    387\u001b[0m   \u001b[38;5;28;01melse\u001b[39;00m:\n\u001b[0;32m    388\u001b[0m     outputs \u001b[38;5;241m=\u001b[39m execute\u001b[38;5;241m.\u001b[39mexecute_with_cancellation(\n\u001b[0;32m    389\u001b[0m         \u001b[38;5;28mstr\u001b[39m(\u001b[38;5;28mself\u001b[39m\u001b[38;5;241m.\u001b[39msignature\u001b[38;5;241m.\u001b[39mname),\n\u001b[0;32m    390\u001b[0m         num_outputs\u001b[38;5;241m=\u001b[39m\u001b[38;5;28mself\u001b[39m\u001b[38;5;241m.\u001b[39m_num_outputs,\n\u001b[1;32m   (...)\u001b[0m\n\u001b[0;32m    393\u001b[0m         ctx\u001b[38;5;241m=\u001b[39mctx,\n\u001b[0;32m    394\u001b[0m         cancellation_manager\u001b[38;5;241m=\u001b[39mcancellation_manager)\n",
      "File \u001b[1;32mc:\\Users\\dekad\\Desktop\\GrupoStudium\\3. Segundo DAM\\7. Proyecto integrado\\Espacio de trabajo\\venv\\lib\\site-packages\\tensorflow\\python\\eager\\execute.py:52\u001b[0m, in \u001b[0;36mquick_execute\u001b[1;34m(op_name, num_outputs, inputs, attrs, ctx, name)\u001b[0m\n\u001b[0;32m     50\u001b[0m \u001b[38;5;28;01mtry\u001b[39;00m:\n\u001b[0;32m     51\u001b[0m   ctx\u001b[38;5;241m.\u001b[39mensure_initialized()\n\u001b[1;32m---> 52\u001b[0m   tensors \u001b[38;5;241m=\u001b[39m \u001b[43mpywrap_tfe\u001b[49m\u001b[38;5;241;43m.\u001b[39;49m\u001b[43mTFE_Py_Execute\u001b[49m\u001b[43m(\u001b[49m\u001b[43mctx\u001b[49m\u001b[38;5;241;43m.\u001b[39;49m\u001b[43m_handle\u001b[49m\u001b[43m,\u001b[49m\u001b[43m \u001b[49m\u001b[43mdevice_name\u001b[49m\u001b[43m,\u001b[49m\u001b[43m \u001b[49m\u001b[43mop_name\u001b[49m\u001b[43m,\u001b[49m\n\u001b[0;32m     53\u001b[0m \u001b[43m                                      \u001b[49m\u001b[43minputs\u001b[49m\u001b[43m,\u001b[49m\u001b[43m \u001b[49m\u001b[43mattrs\u001b[49m\u001b[43m,\u001b[49m\u001b[43m \u001b[49m\u001b[43mnum_outputs\u001b[49m\u001b[43m)\u001b[49m\n\u001b[0;32m     54\u001b[0m \u001b[38;5;28;01mexcept\u001b[39;00m core\u001b[38;5;241m.\u001b[39m_NotOkStatusException \u001b[38;5;28;01mas\u001b[39;00m e:\n\u001b[0;32m     55\u001b[0m   \u001b[38;5;28;01mif\u001b[39;00m name \u001b[38;5;129;01mis\u001b[39;00m \u001b[38;5;129;01mnot\u001b[39;00m \u001b[38;5;28;01mNone\u001b[39;00m:\n",
      "\u001b[1;31mKeyboardInterrupt\u001b[0m: "
     ]
    }
   ],
   "source": [
    "# Entrenar el modelo\n",
    "history = model.fit(\n",
    "    train_dataset,\n",
    "    epochs=130,  # Entrenar durante 130 épocas (como en el código de PyTorch)\n",
    "    validation_data=val_dataset,\n",
    "    verbose=1,\n",
    "    class_weight=class_weights  # Ajustar pesos de las clases\n",
    ")"
   ]
  },
  {
   "cell_type": "markdown",
   "id": "c809cde1",
   "metadata": {},
   "source": [
    "Graficar precisión y pérdida"
   ]
  },
  {
   "cell_type": "code",
   "execution_count": null,
   "id": "db1dd015",
   "metadata": {},
   "outputs": [],
   "source": [
    "import matplotlib.pyplot as plt\n",
    "\n",
    "# Graficar precisión\n",
    "plt.figure(figsize=(12, 5))\n",
    "\n",
    "plt.subplot(1, 2, 1)\n",
    "plt.plot(history.history['accuracy'], label='Precisión entrenamiento')\n",
    "plt.plot(history.history['val_accuracy'], label='Precisión validación')\n",
    "plt.title('Precisión durante el entrenamiento')\n",
    "plt.xlabel('Época')\n",
    "plt.ylabel('Precisión')\n",
    "plt.legend()\n",
    "\n",
    "# Graficar pérdida\n",
    "plt.subplot(1, 2, 2)\n",
    "plt.plot(history.history['loss'], label='Pérdida entrenamiento')\n",
    "plt.plot(history.history['val_loss'], label='Pérdida validación')\n",
    "plt.title('Pérdida durante el entrenamiento')\n",
    "plt.xlabel('Época')\n",
    "plt.ylabel('Pérdida')\n",
    "plt.legend()\n",
    "\n",
    "plt.tight_layout()\n",
    "plt.show()"
   ]
  },
  {
   "cell_type": "markdown",
   "id": "5e5bf715",
   "metadata": {},
   "source": [
    "Evaluar el modelo en el conjunto de prueba. Una vez entrenado el modelo, evaluamos su desempeño en el conjunto de prueba para verificar su precisión."
   ]
  },
  {
   "cell_type": "code",
   "execution_count": null,
   "id": "c274a783",
   "metadata": {},
   "outputs": [],
   "source": [
    "# Evaluar el modelo en el conjunto de prueba\n",
    "test_loss, test_acc = model.evaluate(test_dataset, verbose=1)\n",
    "print(f\"Test accuracy: {test_acc}\")"
   ]
  },
  {
   "cell_type": "markdown",
   "id": "9406329d",
   "metadata": {},
   "source": [
    "# Realizar predicciones"
   ]
  },
  {
   "cell_type": "code",
   "execution_count": null,
   "id": "6d16f9e9",
   "metadata": {},
   "outputs": [],
   "source": [
    "# Función para predecir una imagen\n",
    "def predict_image(image_path):\n",
    "    image = load_image(image_path)\n",
    "    image = tf.expand_dims(image, axis=0)  # Añadir una dimensión para el batch\n",
    "    prediction = model.predict(image)\n",
    "    predicted_class = np.argmax(prediction, axis=-1)  # Obtener la clase con mayor probabilidad\n",
    "    return predicted_class\n",
    "\n",
    "# Ejemplo de predicción\n",
    "image_path = 'ruta/a/una/imagen/nueva.jpg'\n",
    "predicted_class = predict_image(image_path)\n",
    "print(f\"Predicción de clase: {predicted_class}\")"
   ]
  }
 ],
 "metadata": {
  "kernelspec": {
   "display_name": "venv",
   "language": "python",
   "name": "python3"
  },
  "language_info": {
   "codemirror_mode": {
    "name": "ipython",
    "version": 3
   },
   "file_extension": ".py",
   "mimetype": "text/x-python",
   "name": "python",
   "nbconvert_exporter": "python",
   "pygments_lexer": "ipython3",
   "version": "3.9.13"
  }
 },
 "nbformat": 4,
 "nbformat_minor": 5
}
